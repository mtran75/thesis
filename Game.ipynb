{
 "cells": [
  {
   "cell_type": "markdown",
   "id": "f12cba3d-34e3-46f2-824d-ccf586ac43bb",
   "metadata": {},
   "source": [
    "## Create a Game"
   ]
  },
  {
   "cell_type": "code",
   "execution_count": 1,
   "id": "d13449fe-a24c-47a5-a4a5-2a8eff356b1d",
   "metadata": {},
   "outputs": [],
   "source": [
    "import nashpy as nash\n",
    "import numpy as np"
   ]
  },
  {
   "cell_type": "markdown",
   "id": "5d3d6e52-6f10-48a8-b8b4-06813a68d133",
   "metadata": {},
   "source": [
    "### Game Creation"
   ]
  },
  {
   "cell_type": "code",
   "execution_count": 2,
   "id": "e8d6c778-4926-45e2-90a8-567f21b950ba",
   "metadata": {},
   "outputs": [
    {
     "data": {
      "text/plain": [
       "Zero sum game with payoff matrices:\n",
       "\n",
       "Row player:\n",
       "[[ 0 -1  1]\n",
       " [ 1  0 -1]\n",
       " [-1  1  0]]\n",
       "\n",
       "Column player:\n",
       "[[ 0  1 -1]\n",
       " [-1  0  1]\n",
       " [ 1 -1  0]]"
      ]
     },
     "execution_count": 2,
     "metadata": {},
     "output_type": "execute_result"
    }
   ],
   "source": [
    "A = np.array([[0, -1, 1], [1, 0, -1], [-1, 1, 0]])\n",
    "rps = nash.Game(A)\n",
    "rps"
   ]
  },
  {
   "cell_type": "markdown",
   "id": "70daf200-c6b7-4f36-abcc-45da87c5b52e",
   "metadata": {},
   "source": [
    "### Payoffs of a game"
   ]
  },
  {
   "cell_type": "markdown",
   "id": "23e0bad8-4813-4365-8a7c-35b2d62eb0cb",
   "metadata": {},
   "source": []
  },
  {
   "cell_type": "code",
   "execution_count": 4,
   "id": "18eca4ad-f72d-44a6-86e3-0ca363ac7eae",
   "metadata": {},
   "outputs": [
    {
     "data": {
      "text/plain": [
       "array([ 1, -1])"
      ]
     },
     "execution_count": 4,
     "metadata": {},
     "output_type": "execute_result"
    }
   ],
   "source": [
    "#Play of the row player (means he plays the 3rd row)\n",
    "sigma_r = [0, 0, 1]\n",
    "#Play of the column player (means he plays the 2nd col)\n",
    "sigma_c = [0, 1, 0]\n",
    "#Calculate pay-off\n",
    "rps[sigma_r, sigma_c]\n",
    "\n",
    "#Results gives the pay-off for the row player first and then for the col player"
   ]
  },
  {
   "cell_type": "code",
   "execution_count": 5,
   "id": "0b0ecf40-e4c7-48c6-9a50-f2b75ee10b82",
   "metadata": {},
   "outputs": [
    {
     "data": {
      "text/plain": [
       "array([ 0.25, -0.25])"
      ]
     },
     "execution_count": 5,
     "metadata": {},
     "output_type": "execute_result"
    }
   ],
   "source": [
    "sigma_c = [1 / 2, 1 / 2, 0]\n",
    "sigma_r = [0, 1 / 2, 1 / 2]\n",
    "rps[sigma_r, sigma_c]"
   ]
  },
  {
   "cell_type": "markdown",
   "id": "5f80cfc1-ffd2-4f15-8737-c3102c45e474",
   "metadata": {},
   "source": [
    "### Nash Equilibrium"
   ]
  },
  {
   "cell_type": "code",
   "execution_count": 6,
   "id": "924599e7-0008-4a6e-b0ab-7e8d1ddc126b",
   "metadata": {},
   "outputs": [
    {
     "data": {
      "text/plain": [
       "[(array([0.33333333, 0.33333333, 0.33333333]),\n",
       "  array([0.33333333, 0.33333333, 0.33333333]))]"
      ]
     },
     "execution_count": 6,
     "metadata": {},
     "output_type": "execute_result"
    }
   ],
   "source": [
    "eqs = rps.support_enumeration()\n",
    "list(eqs)"
   ]
  },
  {
   "cell_type": "code",
   "execution_count": 8,
   "id": "43709f0f-82de-4ef5-b511-dc64e7d27619",
   "metadata": {},
   "outputs": [
    {
     "data": {
      "text/plain": [
       "Zero sum game with payoff matrices:\n",
       "\n",
       "Row player:\n",
       "[[ 0 -1  1]\n",
       " [ 1  0 -1]\n",
       " [-1  1  0]]\n",
       "\n",
       "Column player:\n",
       "[[ 0  1 -1]\n",
       " [-1  0  1]\n",
       " [ 1 -1  0]]"
      ]
     },
     "execution_count": 8,
     "metadata": {},
     "output_type": "execute_result"
    }
   ],
   "source": [
    "rps"
   ]
  },
  {
   "cell_type": "code",
   "execution_count": 7,
   "id": "42f55f44-23bf-4a41-92fc-c98615961a30",
   "metadata": {},
   "outputs": [
    {
     "name": "stdout",
     "output_type": "stream",
     "text": [
      "[0 0 0] [0 0 0]\n",
      "[1. 0. 0.] [0. 1. 0.]\n",
      "[1. 0. 1.] [0. 2. 0.]\n",
      "[1. 0. 2.] [1. 2. 0.]\n",
      "[1. 1. 2.] [2. 2. 0.]\n",
      "[1. 2. 2.] [3. 2. 0.]\n",
      "[1. 3. 2.] [3. 2. 1.]\n",
      "[1. 4. 2.] [3. 2. 2.]\n",
      "[1. 5. 2.] [3. 2. 3.]\n",
      "[2. 5. 2.] [3. 2. 4.]\n",
      "[3. 5. 2.] [3. 2. 5.]\n",
      "[4. 5. 2.] [3. 2. 6.]\n",
      "[5. 5. 2.] [3. 3. 6.]\n",
      "[6. 5. 2.] [3. 4. 6.]\n",
      "[7. 5. 2.] [3. 5. 6.]\n",
      "[7. 5. 3.] [3. 6. 6.]\n",
      "[7. 5. 4.] [3. 7. 6.]\n",
      "[7. 5. 5.] [3. 8. 6.]\n",
      "[7. 5. 6.] [3. 9. 6.]\n",
      "[7. 5. 7.] [ 3. 10.  6.]\n",
      "[7. 5. 8.] [ 4. 10.  6.]\n",
      "[7. 5. 9.] [ 5. 10.  6.]\n",
      "[ 7.  5. 10.] [ 6. 10.  6.]\n",
      "[ 7.  5. 11.] [ 7. 10.  6.]\n",
      "[ 7.  5. 12.] [ 8. 10.  6.]\n",
      "[ 7.  5. 13.] [ 9. 10.  6.]\n",
      "[ 7.  6. 13.] [10. 10.  6.]\n",
      "[ 7.  7. 13.] [11. 10.  6.]\n",
      "[ 7.  8. 13.] [12. 10.  6.]\n",
      "[ 7.  9. 13.] [13. 10.  6.]\n",
      "[ 7. 10. 13.] [14. 10.  6.]\n",
      "[ 7. 11. 13.] [14. 10.  7.]\n",
      "[ 7. 12. 13.] [14. 10.  8.]\n",
      "[ 7. 13. 13.] [14. 10.  9.]\n",
      "[ 7. 14. 13.] [14. 10. 10.]\n",
      "[ 7. 15. 13.] [14. 10. 11.]\n",
      "[ 7. 16. 13.] [14. 10. 12.]\n",
      "[ 7. 17. 13.] [14. 10. 13.]\n",
      "[ 8. 17. 13.] [14. 10. 14.]\n",
      "[ 9. 17. 13.] [14. 10. 15.]\n",
      "[10. 17. 13.] [14. 10. 16.]\n",
      "[11. 17. 13.] [14. 10. 17.]\n",
      "[12. 17. 13.] [14. 10. 18.]\n",
      "[13. 17. 13.] [14. 10. 19.]\n",
      "[14. 17. 13.] [14. 10. 20.]\n",
      "[15. 17. 13.] [14. 10. 21.]\n",
      "[16. 17. 13.] [14. 10. 22.]\n",
      "[17. 17. 13.] [14. 11. 22.]\n",
      "[18. 17. 13.] [14. 12. 22.]\n",
      "[19. 17. 13.] [14. 13. 22.]\n",
      "[20. 17. 13.] [14. 14. 22.]\n",
      "[21. 17. 13.] [14. 15. 22.]\n",
      "[22. 17. 13.] [14. 16. 22.]\n",
      "[23. 17. 13.] [14. 17. 22.]\n",
      "[24. 17. 13.] [14. 18. 22.]\n",
      "[24. 17. 14.] [14. 19. 22.]\n",
      "[24. 17. 15.] [14. 20. 22.]\n",
      "[24. 17. 16.] [14. 21. 22.]\n",
      "[24. 17. 17.] [14. 22. 22.]\n",
      "[24. 17. 18.] [14. 23. 22.]\n",
      "[24. 17. 19.] [14. 24. 22.]\n",
      "[24. 17. 20.] [14. 25. 22.]\n",
      "[24. 17. 21.] [14. 26. 22.]\n",
      "[24. 17. 22.] [15. 26. 22.]\n",
      "[24. 17. 23.] [16. 26. 22.]\n",
      "[24. 17. 24.] [17. 26. 22.]\n",
      "[24. 17. 25.] [18. 26. 22.]\n",
      "[24. 17. 26.] [19. 26. 22.]\n",
      "[24. 17. 27.] [20. 26. 22.]\n",
      "[24. 17. 28.] [21. 26. 22.]\n",
      "[24. 17. 29.] [22. 26. 22.]\n",
      "[24. 17. 30.] [23. 26. 22.]\n",
      "[24. 17. 31.] [24. 26. 22.]\n",
      "[24. 17. 32.] [25. 26. 22.]\n",
      "[24. 18. 32.] [26. 26. 22.]\n",
      "[24. 19. 32.] [27. 26. 22.]\n",
      "[24. 20. 32.] [28. 26. 22.]\n",
      "[24. 21. 32.] [29. 26. 22.]\n",
      "[24. 22. 32.] [30. 26. 22.]\n",
      "[24. 23. 32.] [31. 26. 22.]\n",
      "[24. 24. 32.] [32. 26. 22.]\n",
      "[24. 25. 32.] [33. 26. 22.]\n",
      "[24. 26. 32.] [34. 26. 22.]\n",
      "[24. 27. 32.] [35. 26. 22.]\n",
      "[24. 28. 32.] [36. 26. 22.]\n",
      "[24. 29. 32.] [37. 26. 22.]\n",
      "[24. 30. 32.] [37. 26. 23.]\n",
      "[24. 31. 32.] [37. 26. 24.]\n",
      "[24. 32. 32.] [37. 26. 25.]\n",
      "[24. 33. 32.] [37. 26. 26.]\n",
      "[24. 34. 32.] [37. 26. 27.]\n",
      "[24. 35. 32.] [37. 26. 28.]\n",
      "[24. 36. 32.] [37. 26. 29.]\n",
      "[24. 37. 32.] [37. 26. 30.]\n",
      "[24. 38. 32.] [37. 26. 31.]\n",
      "[24. 39. 32.] [37. 26. 32.]\n",
      "[25. 39. 32.] [37. 26. 33.]\n",
      "[26. 39. 32.] [37. 26. 34.]\n",
      "[27. 39. 32.] [37. 26. 35.]\n",
      "[28. 39. 32.] [37. 26. 36.]\n",
      "[29. 39. 32.] [37. 26. 37.]\n"
     ]
    }
   ],
   "source": [
    "iterations = 100\n",
    "np.random.seed(0)\n",
    "play_counts = rps.fictitious_play(iterations=iterations)\n",
    "for row_play_count, column_play_count in play_counts:\n",
    "    print(row_play_count, column_play_count)"
   ]
  },
  {
   "cell_type": "code",
   "execution_count": 9,
   "id": "2ecd4450-972a-49a5-b661-e9fd99ace41c",
   "metadata": {},
   "outputs": [],
   "source": [
    "A = np.array([[1, -1], [-1, 1]])\n",
    "matching_pennies = nash.Game(A)"
   ]
  },
  {
   "cell_type": "code",
   "execution_count": 14,
   "id": "4e1f362c-c0dc-4119-a403-6271d298560b",
   "metadata": {},
   "outputs": [
    {
     "name": "stdout",
     "output_type": "stream",
     "text": [
      "(array([0.5, 0.5]), array([0.5, 0.5]))\n"
     ]
    }
   ],
   "source": [
    "equilibria = matching_pennies.vertex_enumeration()\n",
    "for eq in equilibria:\n",
    "    print(eq)"
   ]
  },
  {
   "cell_type": "code",
   "execution_count": 16,
   "id": "3f4c921e-b973-41f3-97e4-e8b5d3cd90c4",
   "metadata": {},
   "outputs": [
    {
     "data": {
      "text/plain": [
       "[]"
      ]
     },
     "execution_count": 16,
     "metadata": {},
     "output_type": "execute_result"
    }
   ],
   "source": [
    "list(equilibria)"
   ]
  },
  {
   "cell_type": "markdown",
   "id": "e634d89c-4ac3-4f9f-961c-48852ceb0eee",
   "metadata": {},
   "source": [
    "Lemke Howson\n",
    "\n",
    "Note that this algorithm is not guaranteed to find all equilibria but is an efficient way of finding an equilibrium."
   ]
  },
  {
   "cell_type": "code",
   "execution_count": 17,
   "id": "1b6b3304-017f-47b0-b62c-0c9e54153fb1",
   "metadata": {},
   "outputs": [
    {
     "data": {
      "text/plain": [
       "(array([0.5, 0.5]), array([0.5, 0.5]))"
      ]
     },
     "execution_count": 17,
     "metadata": {},
     "output_type": "execute_result"
    }
   ],
   "source": [
    "matching_pennies.lemke_howson(initial_dropped_label=0)"
   ]
  },
  {
   "cell_type": "code",
   "execution_count": null,
   "id": "a50c48b0-f73f-41a9-8b55-2889ca219d0f",
   "metadata": {},
   "outputs": [],
   "source": []
  }
 ],
 "metadata": {
  "kernelspec": {
   "display_name": "Python 3 (ipykernel)",
   "language": "python",
   "name": "python3"
  },
  "language_info": {
   "codemirror_mode": {
    "name": "ipython",
    "version": 3
   },
   "file_extension": ".py",
   "mimetype": "text/x-python",
   "name": "python",
   "nbconvert_exporter": "python",
   "pygments_lexer": "ipython3",
   "version": "3.10.11"
  }
 },
 "nbformat": 4,
 "nbformat_minor": 5
}
